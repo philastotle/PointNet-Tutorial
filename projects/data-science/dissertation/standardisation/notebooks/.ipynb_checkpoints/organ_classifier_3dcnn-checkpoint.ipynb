{
 "cells": [
  {
   "cell_type": "markdown",
   "metadata": {
    "colab_type": "text",
    "id": "view-in-github"
   },
   "source": [
    "<a href=\"https://colab.research.google.com/github/philastotle/dissertation/blob/master/organ_classifier_3dcnn.ipynb\" target=\"_parent\"><img src=\"https://colab.research.google.com/assets/colab-badge.svg\" alt=\"Open In Colab\"/></a>"
   ]
  },
  {
   "cell_type": "markdown",
   "metadata": {
    "colab_type": "text",
    "id": "2xXTPhZrchZV"
   },
   "source": [
    "# Organ Classifier - 3 Dimensional Convolutional Neural Network"
   ]
  },
  {
   "cell_type": "code",
   "execution_count": 2,
   "metadata": {
    "colab": {
     "base_uri": "https://localhost:8080/",
     "height": 169
    },
    "colab_type": "code",
    "id": "L9fhiOeRcjYK",
    "outputId": "7665341f-7dd9-4886-e6fd-3cd85a86b4b7"
   },
   "outputs": [
    {
     "name": "stdout",
     "output_type": "stream",
     "text": [
      "Go to this URL in a browser: https://accounts.google.com/o/oauth2/auth?client_id=947318989803-6bn6qk8qdgf4n4g3pfee6491hc0brc4i.apps.googleusercontent.com&redirect_uri=urn%3Aietf%3Awg%3Aoauth%3A2.0%3Aoob&scope=email%20https%3A%2F%2Fwww.googleapis.com%2Fauth%2Fdocs.test%20https%3A%2F%2Fwww.googleapis.com%2Fauth%2Fdrive%20https%3A%2F%2Fwww.googleapis.com%2Fauth%2Fdrive.photos.readonly%20https%3A%2F%2Fwww.googleapis.com%2Fauth%2Fpeopleapi.readonly&response_type=code\n",
      "\n",
      "Enter your authorization code:\n",
      "··········\n",
      "Mounted at /content/drive\n"
     ]
    }
   ],
   "source": [
    "from google.colab import drive\n",
    "drive.mount('/content/drive')"
   ]
  },
  {
   "cell_type": "code",
   "execution_count": 3,
   "metadata": {
    "colab": {
     "base_uri": "https://localhost:8080/",
     "height": 34
    },
    "colab_type": "code",
    "id": "PerR0XkJclOO",
    "outputId": "a4418c57-778f-49ac-e0f6-b597637665cc"
   },
   "outputs": [
    {
     "name": "stdout",
     "output_type": "stream",
     "text": [
      "/content/drive\n"
     ]
    }
   ],
   "source": [
    "cd drive"
   ]
  },
  {
   "cell_type": "code",
   "execution_count": 4,
   "metadata": {
    "colab": {
     "base_uri": "https://localhost:8080/",
     "height": 34
    },
    "colab_type": "code",
    "id": "-uaIsvFMcnQ_",
    "outputId": "c6c0da53-8d03-4881-c5a1-a882fcaf41f4"
   },
   "outputs": [
    {
     "name": "stdout",
     "output_type": "stream",
     "text": [
      "/content/drive/My Drive\n"
     ]
    }
   ],
   "source": [
    "cd My Drive"
   ]
  },
  {
   "cell_type": "code",
   "execution_count": 5,
   "metadata": {
    "colab": {
     "base_uri": "https://localhost:8080/",
     "height": 34
    },
    "colab_type": "code",
    "id": "qpxvWf8ecoYS",
    "outputId": "534dd13a-27ee-4ebc-e189-d1cd3c2cf5d6"
   },
   "outputs": [
    {
     "name": "stdout",
     "output_type": "stream",
     "text": [
      "/content/drive/My Drive/Dissertation/5_Code/1_code\n"
     ]
    }
   ],
   "source": [
    "cd Dissertation/5_Code/1_code"
   ]
  },
  {
   "cell_type": "code",
   "execution_count": 6,
   "metadata": {
    "colab": {
     "base_uri": "https://localhost:8080/",
     "height": 199
    },
    "colab_type": "code",
    "id": "YLT9ifEgcp9q",
    "outputId": "757537a1-7873-4cf5-80ea-afa1a64ea54c"
   },
   "outputs": [
    {
     "name": "stdout",
     "output_type": "stream",
     "text": [
      " DataPreparation.ipynb          my_model_16_16_16.h5\n",
      " dissertation_3dcnn.h5          organ_classifier_3dcnn.ipynb\n",
      "'EDA&PreProcessing.ipynb'       organ_classifier_pointnet.ipynb\n",
      " keras-test.ipynb               original-voxel-model.ipynb\n",
      " Model1_PointNetFull.ipynb      Performance.gsheet\n",
      " Model2_PointNetBasic.ipynb     PointNetBasic.ipynb\n",
      " Model3_PointNetBasic_l.ipynb   \u001b[0m\u001b[01;34mPy\u001b[0m/\n",
      " Model4_3DCNN.ipynb             \u001b[01;34m__pycache__\u001b[0m/\n",
      " Model5_ANN.ipynb               voxel-model.ipynb\n"
     ]
    }
   ],
   "source": [
    "ls"
   ]
  },
  {
   "cell_type": "markdown",
   "metadata": {
    "colab_type": "text",
    "id": "Wh4TA-UNc6W6"
   },
   "source": [
    "## Install dependencies"
   ]
  },
  {
   "cell_type": "code",
   "execution_count": 7,
   "metadata": {
    "colab": {
     "base_uri": "https://localhost:8080/",
     "height": 803
    },
    "colab_type": "code",
    "id": "Ftp5nycfc8Ij",
    "outputId": "90cd991b-9583-469d-ffa1-84bddd7ef916"
   },
   "outputs": [
    {
     "name": "stdout",
     "output_type": "stream",
     "text": [
      "Collecting open3d-python\n",
      "\u001b[?25l  Downloading https://files.pythonhosted.org/packages/62/24/e58e19ea4dc63cb92cbe5877cc738cc203e54e056ec81f2af6b55e3a770a/open3d_python-0.6.0.0-cp36-cp36m-manylinux1_x86_64.whl (3.3MB)\n",
      "\u001b[K    100% |████████████████████████████████| 3.3MB 10.2MB/s \n",
      "\u001b[?25hRequirement already satisfied: notebook in /usr/local/lib/python3.6/dist-packages (from open3d-python) (5.2.2)\n",
      "Requirement already satisfied: ipywidgets in /usr/local/lib/python3.6/dist-packages (from open3d-python) (7.4.2)\n",
      "Requirement already satisfied: widgetsnbextension in /usr/local/lib/python3.6/dist-packages (from open3d-python) (3.4.2)\n",
      "Requirement already satisfied: numpy in /usr/local/lib/python3.6/dist-packages (from open3d-python) (1.16.3)\n",
      "Requirement already satisfied: jupyter-client in /usr/local/lib/python3.6/dist-packages (from notebook->open3d-python) (5.2.4)\n",
      "Requirement already satisfied: jupyter-core in /usr/local/lib/python3.6/dist-packages (from notebook->open3d-python) (4.4.0)\n",
      "Requirement already satisfied: ipykernel in /usr/local/lib/python3.6/dist-packages (from notebook->open3d-python) (4.6.1)\n",
      "Requirement already satisfied: jinja2 in /usr/local/lib/python3.6/dist-packages (from notebook->open3d-python) (2.10.1)\n",
      "Requirement already satisfied: ipython-genutils in /usr/local/lib/python3.6/dist-packages (from notebook->open3d-python) (0.2.0)\n",
      "Requirement already satisfied: nbformat in /usr/local/lib/python3.6/dist-packages (from notebook->open3d-python) (4.4.0)\n",
      "Requirement already satisfied: tornado>=4 in /usr/local/lib/python3.6/dist-packages (from notebook->open3d-python) (4.5.3)\n",
      "Requirement already satisfied: traitlets>=4.2.1 in /usr/local/lib/python3.6/dist-packages (from notebook->open3d-python) (4.3.2)\n",
      "Requirement already satisfied: terminado>=0.3.3; sys_platform != \"win32\" in /usr/local/lib/python3.6/dist-packages (from notebook->open3d-python) (0.8.2)\n",
      "Requirement already satisfied: nbconvert in /usr/local/lib/python3.6/dist-packages (from notebook->open3d-python) (5.4.1)\n",
      "Requirement already satisfied: ipython>=4.0.0; python_version >= \"3.3\" in /usr/local/lib/python3.6/dist-packages (from ipywidgets->open3d-python) (5.5.0)\n",
      "Requirement already satisfied: pyzmq>=13 in /usr/local/lib/python3.6/dist-packages (from jupyter-client->notebook->open3d-python) (17.0.0)\n",
      "Requirement already satisfied: python-dateutil>=2.1 in /usr/local/lib/python3.6/dist-packages (from jupyter-client->notebook->open3d-python) (2.5.3)\n",
      "Requirement already satisfied: MarkupSafe>=0.23 in /usr/local/lib/python3.6/dist-packages (from jinja2->notebook->open3d-python) (1.1.1)\n",
      "Requirement already satisfied: jsonschema!=2.5.0,>=2.4 in /usr/local/lib/python3.6/dist-packages (from nbformat->notebook->open3d-python) (2.6.0)\n",
      "Requirement already satisfied: six in /usr/local/lib/python3.6/dist-packages (from traitlets>=4.2.1->notebook->open3d-python) (1.12.0)\n",
      "Requirement already satisfied: decorator in /usr/local/lib/python3.6/dist-packages (from traitlets>=4.2.1->notebook->open3d-python) (4.4.0)\n",
      "Requirement already satisfied: ptyprocess; os_name != \"nt\" in /usr/local/lib/python3.6/dist-packages (from terminado>=0.3.3; sys_platform != \"win32\"->notebook->open3d-python) (0.6.0)\n",
      "Requirement already satisfied: pygments in /usr/local/lib/python3.6/dist-packages (from nbconvert->notebook->open3d-python) (2.1.3)\n",
      "Requirement already satisfied: testpath in /usr/local/lib/python3.6/dist-packages (from nbconvert->notebook->open3d-python) (0.4.2)\n",
      "Requirement already satisfied: defusedxml in /usr/local/lib/python3.6/dist-packages (from nbconvert->notebook->open3d-python) (0.6.0)\n",
      "Requirement already satisfied: entrypoints>=0.2.2 in /usr/local/lib/python3.6/dist-packages (from nbconvert->notebook->open3d-python) (0.3)\n",
      "Requirement already satisfied: mistune>=0.8.1 in /usr/local/lib/python3.6/dist-packages (from nbconvert->notebook->open3d-python) (0.8.4)\n",
      "Requirement already satisfied: bleach in /usr/local/lib/python3.6/dist-packages (from nbconvert->notebook->open3d-python) (3.1.0)\n",
      "Requirement already satisfied: pandocfilters>=1.4.1 in /usr/local/lib/python3.6/dist-packages (from nbconvert->notebook->open3d-python) (1.4.2)\n",
      "Requirement already satisfied: pickleshare in /usr/local/lib/python3.6/dist-packages (from ipython>=4.0.0; python_version >= \"3.3\"->ipywidgets->open3d-python) (0.7.5)\n",
      "Requirement already satisfied: simplegeneric>0.8 in /usr/local/lib/python3.6/dist-packages (from ipython>=4.0.0; python_version >= \"3.3\"->ipywidgets->open3d-python) (0.8.1)\n",
      "Requirement already satisfied: pexpect; sys_platform != \"win32\" in /usr/local/lib/python3.6/dist-packages (from ipython>=4.0.0; python_version >= \"3.3\"->ipywidgets->open3d-python) (4.7.0)\n",
      "Requirement already satisfied: setuptools>=18.5 in /usr/local/lib/python3.6/dist-packages (from ipython>=4.0.0; python_version >= \"3.3\"->ipywidgets->open3d-python) (40.9.0)\n",
      "Requirement already satisfied: prompt-toolkit<2.0.0,>=1.0.4 in /usr/local/lib/python3.6/dist-packages (from ipython>=4.0.0; python_version >= \"3.3\"->ipywidgets->open3d-python) (1.0.16)\n",
      "Requirement already satisfied: webencodings in /usr/local/lib/python3.6/dist-packages (from bleach->nbconvert->notebook->open3d-python) (0.5.1)\n",
      "Requirement already satisfied: wcwidth in /usr/local/lib/python3.6/dist-packages (from prompt-toolkit<2.0.0,>=1.0.4->ipython>=4.0.0; python_version >= \"3.3\"->ipywidgets->open3d-python) (0.1.7)\n",
      "Installing collected packages: open3d-python\n",
      "Successfully installed open3d-python-0.6.0.0\n"
     ]
    }
   ],
   "source": [
    "# For Google Colab\n",
    "!pip install open3d-python\n",
    "\n",
    "# for reading the ply files \n",
    "from open3d import *\n",
    "import numpy as np\n",
    "\n",
    "# for 3D visualisation\n",
    "import plotly.graph_objs as go\n",
    "from plotly.offline import iplot, init_notebook_mode\n",
    "\n",
    "# To time \n",
    "import time\n",
    "\n",
    "# For reading the labels\n",
    "import pandas as pd"
   ]
  },
  {
   "cell_type": "markdown",
   "metadata": {
    "colab_type": "text",
    "id": "VZ8o2Jbfc8CO"
   },
   "source": [
    "## Data Pre-processing"
   ]
  },
  {
   "cell_type": "code",
   "execution_count": 0,
   "metadata": {
    "colab": {},
    "colab_type": "code",
    "id": "y_gK5CvWdzbL"
   },
   "outputs": [],
   "source": [
    "# Model 1 & 2 - 3140 data with each organ downsampled by points (628 points per organ)\n",
    "\n",
    "import numpy as np\n",
    "\n",
    "# farthest point calculation\n",
    "def calc_distances(p0, points):\n",
    "    return ((p0 - points)**2).sum(axis=1)\n",
    "\n",
    "def downsample(pts, K):\n",
    "    farthest_pts = np.zeros((K, 3))\n",
    "    farthest_pts[0] = pts[np.random.randint(len(pts))]\n",
    "    distances = calc_distances(farthest_pts[0], pts)\n",
    "    for i in range(1, K):\n",
    "        farthest_pts[i] = pts[np.argmax(distances)]\n",
    "        distances = np.minimum(distances, calc_distances(farthest_pts[i], pts))\n",
    "    return farthest_pts\n",
    "\n",
    "# Re-download model that enters another column that specifies if point is PTVHD\n",
    "def organ_reader(folder, name, points_per_sample, number_of_organs):\n",
    "    \"\"\"\n",
    "    This will read the file directory, list all files, find the patient numbers\n",
    "    Then for a given patient, load all of their files and merge them into an array\n",
    "    \"\"\"\n",
    "    # dependencies\n",
    "    import glob\n",
    "    import os\n",
    "    from open3d import read_point_cloud\n",
    "    import numpy as np\n",
    "    import re\n",
    "    os.chdir('../1_code')\n",
    "    os.chdir('../0_data/' + folder)\n",
    "    # This will read the file directory, list all files, find the patient numbers\n",
    "    # Then for a given patient, load all of their files and merge them into an array\n",
    "    # File directory is current\n",
    "    path = '.'\n",
    "    files = os.listdir(path)  # lists all files in the current directory\n",
    "    pt_num = []\n",
    "    for file in files:\n",
    "        regex = re.compile(r'\\d+')\n",
    "        # for each file extract the number which corresponds to a patient\n",
    "        for x in regex.findall(file):\n",
    "            number = int(x)\n",
    "            pt_num.append(number)\n",
    "    # turn that list into a set such that each item in the list is now a patient\n",
    "    pt_nums = set(pt_num)\n",
    "    pt_nums = [i for i in pt_nums]\n",
    "    \n",
    "    prostates = np.ndarray(shape=(len(pt_nums), int(points_per_sample/number_of_organs), 4))\n",
    "    bladders = np.ndarray(shape=(len(pt_nums), int(points_per_sample/number_of_organs), 4))\n",
    "    femls = np.ndarray(shape=(len(pt_nums), int(points_per_sample/number_of_organs), 4))\n",
    "    femrs = np.ndarray(shape=(len(pt_nums), int(points_per_sample/number_of_organs), 4))\n",
    "    rectums = np.ndarray(shape=(len(pt_nums), int(points_per_sample/number_of_organs), 4))\n",
    "    bodies = np.ndarray(shape=(len(pt_nums), int(points_per_sample/number_of_organs), 4))\n",
    "        \n",
    "    \n",
    "    ############################################################################\n",
    "    \n",
    "    for count, patient in enumerate(pt_nums):\n",
    "        \n",
    "        print('Importing patient ', patient)\n",
    "        # Read ply files to point cloud format\n",
    "        prostate = read_point_cloud('Mesh_PtNum-' + str(patient) + '-PTVHD.ply')\n",
    "        bladder = read_point_cloud('Mesh_PtNum-' + str(patient) + '-Bladder.ply')\n",
    "        feml = read_point_cloud('Mesh_PtNum-' + str(patient) + '-FemoralHeadL.ply')\n",
    "        femr = read_point_cloud('Mesh_PtNum-' + str(patient) + '-FemoralHeadR.ply')\n",
    "        rectum = read_point_cloud('Mesh_PtNum-' + str(patient) + '-Rectum.ply')\n",
    "        body = read_point_cloud('Mesh_PtNum-' + str(patient) + '-BODY.ply')\n",
    "\n",
    "        # Convert point cloud format to cartesian coordinates\n",
    "        prostate = np.asarray(prostate.points)\n",
    "        bladder = np.asarray(bladder.points)\n",
    "        feml = np.asarray(feml.points)\n",
    "        femr = np.asarray(femr.points)\n",
    "        rectum = np.asarray(rectum.points)\n",
    "        body = np.asarray(body.points)\n",
    "        \n",
    "        # downsample point cloud\n",
    "        prostate = downsample(prostate, int(points_per_sample/number_of_organs))\n",
    "        bladder = downsample(bladder, int(points_per_sample/number_of_organs))\n",
    "        feml = downsample(feml, int(points_per_sample/number_of_organs))\n",
    "        femr = downsample(femr, int(points_per_sample/number_of_organs))\n",
    "        rectum = downsample(rectum, int(points_per_sample/number_of_organs))\n",
    "        body = downsample(body, int(points_per_sample/number_of_organs))\n",
    "        \n",
    "        # Add dimension to signify that prostate is target\n",
    "        prostate=np.insert(prostate, 3, 0, axis=1)\n",
    "        bladder=np.insert(bladder, 3, 1, axis=1)\n",
    "        feml=np.insert(feml, 3, 2, axis=1)\n",
    "        femr=np.insert(femr, 3, 3, axis=1)\n",
    "        rectum=np.insert(rectum, 3, 4, axis=1)\n",
    "        body=np.insert(body, 3, 5, axis=1)\n",
    "        \n",
    "        prostates[count] = prostate\n",
    "        bladders[count] = bladder\n",
    "        prostates[count] = prostate\n",
    "        femls[count] = feml\n",
    "        femrs[count] = femr\n",
    "        rectums[count] = rectum\n",
    "        bodies[count] = body\n",
    "\n",
    "    # Combine them \n",
    "    dataset = np.concatenate((prostates,bladders,femls,femrs,rectums, bodies))\n",
    "        # combined will have shape = (p, 4) where 4 is x,y,z,l\n",
    "    print(\"Saving...\")\n",
    "    np.save('../../2_pipeline/' + name + '.npy', dataset)\n",
    "    \n",
    "    os.chdir('../../1_code')\n",
    "    print(\"Done!\")\n",
    "    \n",
    "    return dataset"
   ]
  },
  {
   "cell_type": "code",
   "execution_count": 0,
   "metadata": {
    "colab": {},
    "colab_type": "code",
    "id": "QpywXpHknTV-"
   },
   "outputs": [],
   "source": [
    "#dataset = organ_reader(folder='prostate-no-nodes', name='organ-classifier-dataset', points_per_sample=3768, number_of_organs=6)"
   ]
  },
  {
   "cell_type": "code",
   "execution_count": 10,
   "metadata": {
    "colab": {
     "base_uri": "https://localhost:8080/",
     "height": 34
    },
    "colab_type": "code",
    "id": "m_OXMca-pQ0M",
    "outputId": "74a50aad-98f5-4242-ecdd-ac19cf8b232b"
   },
   "outputs": [
    {
     "data": {
      "text/plain": [
       "(1716, 628, 3)"
      ]
     },
     "execution_count": 10,
     "metadata": {
      "tags": []
     },
     "output_type": "execute_result"
    }
   ],
   "source": [
    "dataset = np.load('../2_pipeline/organ-classifier-dataset.npy')\n",
    "X = dataset[:,:,0:3]\n",
    "X.shape"
   ]
  },
  {
   "cell_type": "code",
   "execution_count": 0,
   "metadata": {
    "colab": {},
    "colab_type": "code",
    "id": "nKH5w6-40FTq"
   },
   "outputs": [],
   "source": [
    "# Get labels\n",
    "y = dataset[:,:,-1]\n",
    "y = y[:,-1]"
   ]
  },
  {
   "cell_type": "code",
   "execution_count": 12,
   "metadata": {
    "colab": {
     "base_uri": "https://localhost:8080/",
     "height": 401
    },
    "colab_type": "code",
    "id": "zcjdzBMZ06Uk",
    "outputId": "6c90525c-38dd-4fc3-e430-eebd4e8197ad"
   },
   "outputs": [
    {
     "name": "stdout",
     "output_type": "stream",
     "text": [
      "Load a ply point cloud, print it, and render it\n"
     ]
    },
    {
     "data": {
      "image/png": "[encoded data removed]",
      "text/plain": [
       "<Figure size 432x288 with 1 Axes>"
      ]
     },
     "metadata": {
      "tags": []
     },
     "output_type": "display_data"
    },
    {
     "name": "stdout",
     "output_type": "stream",
     "text": [
      "[[ 190.4297   141.7422    -6.     ]\n",
      " [-169.0275    54.24219  274.     ]\n",
      " [-187.5308   117.5234  -114.     ]\n",
      " ...\n",
      " [ 150.1953    23.77344  120.     ]\n",
      " [-123.6328   216.3516   196.     ]\n",
      " [-179.7449   150.3359   -74.     ]]\n",
      "Cloud shape: (628, 3)\n"
     ]
    }
   ],
   "source": [
    "test = X[1711]\n",
    "\n",
    "print(\"Load a ply point cloud, print it, and render it\")\n",
    "pcd = read_point_cloud(\"../2_pipeline/combined.ply\")\n",
    "points = np.asarray(pcd.points)\n",
    "\n",
    "# plot point cloud \n",
    "from mpl_toolkits.mplot3d import Axes3D\n",
    "import matplotlib.pyplot as plt\n",
    "\t\n",
    "def plot_ply(file):\n",
    "  fig = plt.figure()\n",
    "  ax = fig.add_subplot(111,projection='3d')\n",
    "  ax.set_ylim(-300,300)\n",
    "  ax.set_xlim(-300,300)\n",
    "  ax.set_zlim(-300,300)\n",
    "  x=file[:,0]\n",
    "  y=file[:,1]\n",
    "  z=file[:,2]\n",
    "  ax.scatter(x, y, z, marker='.', zdir='z')\n",
    "  ax.set_xlabel('X Label')\n",
    "  ax.set_ylabel('Y Label')\n",
    "  ax.set_zlabel('Z Label')\n",
    "  plt.show()\n",
    "\n",
    "plot_ply(test)\n",
    "print(test)\n",
    "print('Cloud shape:', test.shape)"
   ]
  },
  {
   "cell_type": "code",
   "execution_count": 0,
   "metadata": {
    "colab": {},
    "colab_type": "code",
    "id": "ze2nKHmLzo7-"
   },
   "outputs": [],
   "source": [
    "#np.save('../2_pipeline/organ-classifier-X.npy', X)\n",
    "#np.save('../2_pipeline/organ-classifier-y.npy', y)"
   ]
  },
  {
   "cell_type": "markdown",
   "metadata": {
    "colab_type": "text",
    "id": "BU8EA1kL3Kk9"
   },
   "source": [
    "Load data and check"
   ]
  },
  {
   "cell_type": "markdown",
   "metadata": {
    "colab_type": "text",
    "id": "Buu-KxgH3aY9"
   },
   "source": [
    "## 1. Set seed for reproducibility"
   ]
  },
  {
   "cell_type": "code",
   "execution_count": 14,
   "metadata": {
    "colab": {
     "base_uri": "https://localhost:8080/",
     "height": 34
    },
    "colab_type": "code",
    "id": "l1-auBZy3VBt",
    "outputId": "6abc44b5-6b13-4199-dec8-42e9179098b7"
   },
   "outputs": [
    {
     "name": "stderr",
     "output_type": "stream",
     "text": [
      "Using TensorFlow backend.\n"
     ]
    }
   ],
   "source": [
    "# Seed value\n",
    "# Apparently you may use different seed values at each stage\n",
    "seed_value= 0\n",
    "\n",
    "# 1. Set `PYTHONHASHSEED` environment variable at a fixed value\n",
    "import os\n",
    "os.environ['PYTHONHASHSEED']=str(seed_value)\n",
    "\n",
    "# 2. Set `python` built-in pseudo-random generator at a fixed value\n",
    "import random\n",
    "random.seed(seed_value)\n",
    "\n",
    "# 3. Set `numpy` pseudo-random generator at a fixed value\n",
    "import numpy as np\n",
    "np.random.seed(seed_value)\n",
    "\n",
    "# 4. Set `tensorflow` pseudo-random generator at a fixed value\n",
    "import tensorflow as tf\n",
    "tf.set_random_seed(seed_value)\n",
    "\n",
    "# 5. Configure a new global `tensorflow` session\n",
    "from keras import backend as K\n",
    "session_conf = tf.ConfigProto(intra_op_parallelism_threads=1, inter_op_parallelism_threads=1)\n",
    "sess = tf.Session(graph=tf.get_default_graph(), config=session_conf)\n",
    "K.set_session(sess)"
   ]
  },
  {
   "cell_type": "markdown",
   "metadata": {
    "colab_type": "text",
    "id": "uxE3bP-p64ay"
   },
   "source": [
    "## 3D CNN Classifier"
   ]
  },
  {
   "cell_type": "code",
   "execution_count": 0,
   "metadata": {
    "colab": {},
    "colab_type": "code",
    "id": "5zg3GCMv66ce"
   },
   "outputs": [],
   "source": [
    "\"\"\"\n",
    "VoxelGrid Class\n",
    "\"\"\"\n",
    "import numpy as np\n",
    "from matplotlib import pyplot as plt\n",
    "#from ..plot import plot_voxelgrid\n",
    "\n",
    "class VoxelGrid(object):\n",
    "    def __init__(self, points, x_y_z=[1, 1, 1], bb_cuboid=True, build=True):\n",
    "        \"\"\"\n",
    "        Parameters\n",
    "        ----------         \n",
    "        points: (N,3) ndarray\n",
    "                The point cloud from which we want to construct the VoxelGrid.\n",
    "                Where N is the number of points in the point cloud and the second\n",
    "                dimension represents the x, y and z coordinates of each point.\n",
    "        \n",
    "        x_y_z:  list\n",
    "                The segments in which each axis will be divided.\n",
    "                x_y_z[0]: x axis \n",
    "                x_y_z[1]: y axis \n",
    "                x_y_z[2]: z axis\n",
    "\n",
    "        bb_cuboid(Optional): bool\n",
    "                If True(Default):   \n",
    "                    The bounding box of the point cloud will be adjusted\n",
    "                    in order to have all the dimensions of equal length.                \n",
    "                If False:\n",
    "                    The bounding box is allowed to have dimensions of different sizes.\n",
    "        \"\"\"\n",
    "        self.points = points\n",
    "        xyzmin = np.min(points, axis=0) - 0.001\n",
    "        xyzmax = np.max(points, axis=0) + 0.001\n",
    "\n",
    "        if bb_cuboid:\n",
    "            #: adjust to obtain a  minimum bounding box with all sides of equal lenght \n",
    "            diff = max(xyzmax-xyzmin) - (xyzmax-xyzmin)\n",
    "            xyzmin = xyzmin - diff / 2\n",
    "            xyzmax = xyzmax + diff / 2\n",
    "        self.xyzmin = xyzmin\n",
    "        self.xyzmax = xyzmax\n",
    "\n",
    "        segments = []\n",
    "        shape = []\n",
    "\n",
    "        for i in range(3):\n",
    "            # note the +1 in num \n",
    "            if type(x_y_z[i]) is not int:\n",
    "                raise TypeError(\"x_y_z[{}] must be int\".format(i))\n",
    "            s, step = np.linspace(xyzmin[i], xyzmax[i], num=(x_y_z[i] + 1), retstep=True)\n",
    "            segments.append(s)\n",
    "            shape.append(step)\n",
    "        \n",
    "        self.segments = segments\n",
    "        self.shape = shape\n",
    "        self.n_voxels = x_y_z[0] * x_y_z[1] * x_y_z[2]\n",
    "        self.n_x = x_y_z[0]\n",
    "        self.n_y = x_y_z[1]\n",
    "        self.n_z = x_y_z[2]\n",
    "        self.id = \"{},{},{}-{}\".format(x_y_z[0], x_y_z[1], x_y_z[2], bb_cuboid)\n",
    "        if build:\n",
    "            self.build()\n",
    "\n",
    "    def build(self):\n",
    "        structure = np.zeros((len(self.points), 4), dtype=int)\n",
    "        structure[:,0] = np.searchsorted(self.segments[0], self.points[:,0]) - 1\n",
    "        structure[:,1] = np.searchsorted(self.segments[1], self.points[:,1]) - 1\n",
    "        structure[:,2] = np.searchsorted(self.segments[2], self.points[:,2]) - 1\n",
    "        # i = ((y * n_x) + x) + (z * (n_x * n_y))\n",
    "        structure[:,3] = ((structure[:,1] * self.n_x) + structure[:,0]) + (structure[:,2] * (self.n_x * self.n_y)) \n",
    "        \n",
    "        self.structure = structure\n",
    "        vector = np.zeros(self.n_voxels)\n",
    "        count = np.bincount(self.structure[:,3])\n",
    "        vector[:len(count)] = count\n",
    "        self.vector = vector.reshape(self.n_z, self.n_y, self.n_x)\n",
    "\n",
    " \n",
    "    def plot(self, d=2, cmap=\"Oranges\", axis=False):\n",
    "\n",
    "        if d == 2:\n",
    "            fig, axes= plt.subplots(int(np.ceil(self.n_z / 4)), 4, figsize=(8,8))\n",
    "            plt.tight_layout()\n",
    "            for i,ax in enumerate(axes.flat):\n",
    "                if i >= len(self.vector):\n",
    "                    break\n",
    "                im = ax.imshow(self.vector[i], cmap=cmap, interpolation=\"none\")\n",
    "                ax.set_title(\"Level \" + str(i))\n",
    "            fig.subplots_adjust(right=0.8)\n",
    "            cbar_ax = fig.add_axes([0.85, 0.15, 0.05, 0.7])\n",
    "            cbar = fig.colorbar(im, cax=cbar_ax)\n",
    "            cbar.set_label('NUMBER OF POINTS IN VOXEL')\n",
    "        elif d == 3:\n",
    "            return plot_voxelgrid(self, cmap=cmap, axis=axis)\n",
    "\n"
   ]
  },
  {
   "cell_type": "code",
   "execution_count": 0,
   "metadata": {
    "colab": {},
    "colab_type": "code",
    "id": "CJcJ7Sg07DTw"
   },
   "outputs": [],
   "source": [
    "# batch voxelise the data\n",
    "def data_importer(data_points, h, w, d):\n",
    "    # create empty array with dimensions n * (16*16*16)\n",
    "    points = np.zeros((data_points.shape[0],(h*w*d)), dtype=float)\n",
    "    #import all files\n",
    "    for num in range(0,data_points.shape[0]): \n",
    "        # get xyz points from file\n",
    "        tmp = data_points[num]\n",
    "        #tmp = scale(tmp, -1, 1)\n",
    "        tmp = VoxelGrid(tmp, x_y_z=[h,w,d])\n",
    "        # get vector array of voxel\n",
    "        tmp = tmp.vector\n",
    "        #flatten vector\n",
    "        tmp = np.concatenate(tmp).ravel()\n",
    "        # add to our list\n",
    "        points[num] = tmp\n",
    "    return points"
   ]
  },
  {
   "cell_type": "code",
   "execution_count": 0,
   "metadata": {
    "colab": {},
    "colab_type": "code",
    "id": "ybnDgKwh7ZH_"
   },
   "outputs": [],
   "source": [
    "h,w,d = 16,16,16\n",
    "#X = data_importer(X, h,w,d)\n",
    "# Save the data\n",
    "#np.save('../2_pipeline/organ-classifier-voxels.npy', X)"
   ]
  },
  {
   "cell_type": "code",
   "execution_count": 18,
   "metadata": {
    "colab": {
     "base_uri": "https://localhost:8080/",
     "height": 187
    },
    "colab_type": "code",
    "id": "GjcEPOZs7h0F",
    "outputId": "52d4d655-6c8b-4fee-b26b-b40c2ab6adb4"
   },
   "outputs": [
    {
     "name": "stdout",
     "output_type": "stream",
     "text": [
      "Splitting the data...\n",
      "X training size is:  (1097, 4096)\n",
      "y training size is:  (1097,)\n",
      "\n",
      "X val size is:  (275, 4096)\n",
      "y val size is:  (275,)\n",
      "\n",
      "X test size is:  (344, 4096)\n",
      "y test size is:  (344,)\n",
      "Preprocessing the data...\n"
     ]
    }
   ],
   "source": [
    "size = 16\n",
    "h,w,d = size,size,size\n",
    "\n",
    "X = np.load('../2_pipeline/organ-classifier-voxels.npy')\n",
    "y = np.load('../2_pipeline/organ-classifier-y.npy')\n",
    "\n",
    "#split the data\n",
    "print(\"Splitting the data...\")\n",
    "from sklearn.model_selection import train_test_split\n",
    "#split data into 1: train+validation set and 2: test set \n",
    "X_train_val, X_test, y_train_val, y_test = \\\n",
    "train_test_split(X, y, random_state=0, test_size=0.2)\n",
    "\n",
    "# split train+validation set into 1a) training and 1b) validation sets\n",
    "X_train, X_val, y_train, y_val = \\\n",
    "train_test_split(X_train_val, y_train_val, random_state=1, test_size=0.2)\n",
    "\n",
    "# Check train and test size\n",
    "print(\"X training size is: \", X_train.shape)\n",
    "print(\"y training size is: \", y_train.shape)\n",
    "print(\"\\nX val size is: \", X_val.shape)\n",
    "print(\"y val size is: \", y_val.shape)\n",
    "print(\"\\nX test size is: \", X_test.shape)\n",
    "print(\"y test size is: \", y_test.shape)\n",
    "\n",
    "print(\"Preprocessing the data...\")\n",
    "## Introduce the channel dimension in the input dataset \n",
    "xtrain = np.ndarray((X_train.shape[0], (h*w*d), 3))\n",
    "xval = np.ndarray((X_val.shape[0], (h*w*d), 3))\n",
    "xtest = np.ndarray((X_test.shape[0], (h*w*d), 3))\n",
    "\n",
    "# Translate data to color by iterating through train and test and\n",
    "# adding a colour dimension\n",
    "from matplotlib.pyplot import cm\n",
    "\n",
    "def add_rgb_dimension(array):\n",
    "    scaler_map = cm.ScalarMappable(cmap=\"Oranges\")\n",
    "    array = scaler_map.to_rgba(array)[:, : -1]\n",
    "    return array\n",
    "\n",
    "for i in range(X_train.shape[0]):\n",
    "    xtrain[i] = add_rgb_dimension(X_train[i])\n",
    "for i in range(X_val.shape[0]):\n",
    "    xval[i] = add_rgb_dimension(X_val[i])\n",
    "for i in range(X_test.shape[0]):\n",
    "    xtest[i] = add_rgb_dimension(X_test[i])\n",
    "    \n",
    "## convert to 1 + 4D space (1st argument represents number of rows in the dataset)\n",
    "x_train = xtrain.reshape(X_train.shape[0], h, w, d, 3)\n",
    "x_val = xval.reshape(X_val.shape[0], h, w, d, 3)\n",
    "x_test = xtest.reshape(X_test.shape[0], h, w, d, 3)\n",
    "\n",
    "from keras.utils import to_categorical\n",
    "y_train = to_categorical(y_train)\n",
    "y_val = to_categorical(y_val)\n",
    "y_test = to_categorical(y_test)"
   ]
  },
  {
   "cell_type": "markdown",
   "metadata": {
    "colab_type": "text",
    "id": "cptWGf2f773C"
   },
   "source": [
    "## 4. Build 3D CNN\n",
    "Lets create the model architecture. The architecture is described below:\n",
    "\n",
    "Input and Output layers:\n",
    "\n",
    "* One Input layer with dimentions 16, 16, 16, 3\n",
    "* Output layer with dimensions 2\n",
    "\n",
    "Convolutions :\n",
    "* Apply 4 Convolutional layer with increasing order of filter size (standard size : 8, 16, 32, 64) and fixed kernel size = (3, 3, 3)\n",
    "* Apply 2 Max Pooling layers, one after 2nd convolutional layer and one after fourth convolutional layer.\n",
    "\n",
    "MLP architecture:\n",
    "* Batch normalization on convolutiona architecture\n",
    "* Dense layers with 2 layers followed by dropout to avoid overfitting"
   ]
  },
  {
   "cell_type": "code",
   "execution_count": 0,
   "metadata": {
    "colab": {},
    "colab_type": "code",
    "id": "UH72PFWH8bf9"
   },
   "outputs": [],
   "source": [
    "# Install depedencies\n",
    "from keras.models import Sequential\n",
    "from keras.layers import Conv3D, MaxPool3D, Flatten, Dense\n",
    "from keras.layers import Dropout, Input, BatchNormalization\n",
    "from sklearn.metrics import confusion_matrix, accuracy_score, roc_curve, classification_report\n",
    "from mlxtend.plotting import plot_confusion_matrix\n",
    "from keras.losses import categorical_crossentropy\n",
    "from keras.optimizers import Adadelta, SGD, Adam\n",
    "import matplotlib.pyplot as plt\n",
    "from matplotlib.pyplot import cm\n",
    "from keras.models import Model\n",
    "import numpy as np\n",
    "import keras\n",
    "import h5py"
   ]
  },
  {
   "cell_type": "code",
   "execution_count": 20,
   "metadata": {
    "colab": {
     "base_uri": "https://localhost:8080/",
     "height": 768
    },
    "colab_type": "code",
    "id": "5V2eks747kWH",
    "outputId": "adc56182-5947-4967-d5e0-6e45d6377ee2"
   },
   "outputs": [
    {
     "name": "stdout",
     "output_type": "stream",
     "text": [
      "WARNING:tensorflow:From /usr/local/lib/python3.6/dist-packages/tensorflow/python/framework/op_def_library.py:263: colocate_with (from tensorflow.python.framework.ops) is deprecated and will be removed in a future version.\n",
      "Instructions for updating:\n",
      "Colocations handled automatically by placer.\n",
      "WARNING:tensorflow:From /usr/local/lib/python3.6/dist-packages/keras/backend/tensorflow_backend.py:3445: calling dropout (from tensorflow.python.ops.nn_ops) with keep_prob is deprecated and will be removed in a future version.\n",
      "Instructions for updating:\n",
      "Please use `rate` instead of `keep_prob`. Rate should be set to `rate = 1 - keep_prob`.\n",
      "_________________________________________________________________\n",
      "Layer (type)                 Output Shape              Param #   \n",
      "=================================================================\n",
      "conv3d_1 (Conv3D)            (None, 14, 14, 14, 8)     656       \n",
      "_________________________________________________________________\n",
      "conv3d_2 (Conv3D)            (None, 12, 12, 12, 16)    3472      \n",
      "_________________________________________________________________\n",
      "max_pooling3d_1 (MaxPooling3 (None, 6, 6, 6, 16)       0         \n",
      "_________________________________________________________________\n",
      "conv3d_3 (Conv3D)            (None, 4, 4, 4, 32)       13856     \n",
      "_________________________________________________________________\n",
      "conv3d_4 (Conv3D)            (None, 2, 2, 2, 64)       55360     \n",
      "_________________________________________________________________\n",
      "max_pooling3d_2 (MaxPooling3 (None, 1, 1, 1, 64)       0         \n",
      "_________________________________________________________________\n",
      "batch_normalization_1 (Batch (None, 1, 1, 1, 64)       256       \n",
      "_________________________________________________________________\n",
      "flatten_1 (Flatten)          (None, 64)                0         \n",
      "_________________________________________________________________\n",
      "dense_1 (Dense)              (None, 4096)              266240    \n",
      "_________________________________________________________________\n",
      "dropout_1 (Dropout)          (None, 4096)              0         \n",
      "_________________________________________________________________\n",
      "batch_normalization_2 (Batch (None, 4096)              16384     \n",
      "_________________________________________________________________\n",
      "dense_2 (Dense)              (None, 512)               2097664   \n",
      "_________________________________________________________________\n",
      "dropout_2 (Dropout)          (None, 512)               0         \n",
      "_________________________________________________________________\n",
      "batch_normalization_3 (Batch (None, 512)               2048      \n",
      "_________________________________________________________________\n",
      "dense_3 (Dense)              (None, 6)                 3078      \n",
      "=================================================================\n",
      "Total params: 2,459,014\n",
      "Trainable params: 2,449,670\n",
      "Non-trainable params: 9,344\n",
      "_________________________________________________________________\n"
     ]
    }
   ],
   "source": [
    "# Hyper parameters\n",
    "k=6\n",
    "max_epochs = 250\n",
    "batch_size = 128\n",
    "#opt = Adadelta(lr=0.001)\n",
    "opt = Adam(lr=0.01, decay=0.7)\n",
    "dropout_rate=0.2\n",
    "\n",
    "#from keras.optimizers import SGD\n",
    "#opt = SGD(lr=0.001, momentum=0.9)\n",
    "\n",
    "model = Sequential()\n",
    "# Convolution layers\n",
    "model.add(Conv3D(filters=8, kernel_size=(3, 3, 3), activation='relu', input_shape=(h, w, d, 3)))\n",
    "model.add(Conv3D(filters=16, kernel_size=(3, 3, 3), activation='relu'))\n",
    "# Add max pooling to obtain the most informatic features\n",
    "model.add(MaxPool3D(pool_size=(2, 2, 2)))\n",
    "\n",
    "# Convolution layers\n",
    "model.add(Conv3D(filters=32, kernel_size=(3, 3, 3), activation='relu'))\n",
    "model.add(Conv3D(filters=64, kernel_size=(3, 3, 3), activation='relu'))\n",
    "# Add max pooling to obtain the most informatic features\n",
    "model.add(MaxPool3D(pool_size=(2, 2, 2)))\n",
    "\n",
    "## perform batch normalization on the convolution outputs before feeding it to MLP architecture\n",
    "model.add(BatchNormalization())\n",
    "model.add(Flatten())\n",
    "\n",
    "## create an MLP architecture with dense layers : 4096 -> 512 -> 10\n",
    "## add dropouts to avoid overfitting / perform regularization\n",
    "model.add(Dense(units=(h*w*d), activation='relu'))\n",
    "model.add(Dropout(dropout_rate))\n",
    "model.add(BatchNormalization())\n",
    "model.add(Dense(units=512, activation='relu'))\n",
    "model.add(Dropout(dropout_rate))\n",
    "model.add(BatchNormalization())\n",
    "model.add(Dense(units=k, activation='softmax'))\n",
    "\n",
    "# Compile\n",
    "model.compile(loss='categorical_crossentropy', optimizer=opt, metrics=['accuracy'])\n",
    "model.summary()"
   ]
  },
  {
   "cell_type": "markdown",
   "metadata": {
    "colab_type": "text",
    "id": "WVDAZ7uz7_O_"
   },
   "source": [
    "## Train & Evaluate"
   ]
  },
  {
   "cell_type": "code",
   "execution_count": 21,
   "metadata": {
    "colab": {
     "base_uri": "https://localhost:8080/",
     "height": 8656
    },
    "colab_type": "code",
    "id": "Xb8SqFqv8hz1",
    "outputId": "bf37ccb5-6a33-466f-fbcd-1e6ce9dd818c"
   },
   "outputs": [
    {
     "name": "stdout",
     "output_type": "stream",
     "text": [
      "\n",
      "####################### Training Model ##############################\n",
      "Training...\n",
      "WARNING:tensorflow:From /usr/local/lib/python3.6/dist-packages/tensorflow/python/ops/math_ops.py:3066: to_int32 (from tensorflow.python.ops.math_ops) is deprecated and will be removed in a future version.\n",
      "Instructions for updating:\n",
      "Use tf.cast instead.\n",
      "Train on 1097 samples, validate on 275 samples\n",
      "Epoch 1/250\n",
      "1097/1097 [==============================] - 5s 5ms/step - loss: 1.8045 - acc: 0.6427 - val_loss: 13.7736 - val_acc: 0.1455\n",
      "Epoch 2/250\n",
      "1097/1097 [==============================] - 0s 268us/step - loss: 0.2709 - acc: 0.9207 - val_loss: 13.7736 - val_acc: 0.1455\n",
      "Epoch 3/250\n",
      "1097/1097 [==============================] - 0s 267us/step - loss: 0.1131 - acc: 0.9727 - val_loss: 13.7736 - val_acc: 0.1455\n",
      "Epoch 4/250\n",
      "1097/1097 [==============================] - 0s 262us/step - loss: 0.0769 - acc: 0.9736 - val_loss: 13.7736 - val_acc: 0.1455\n",
      "Epoch 5/250\n",
      "1097/1097 [==============================] - 0s 266us/step - loss: 0.0752 - acc: 0.9754 - val_loss: 12.6967 - val_acc: 0.1455\n",
      "Epoch 6/250\n",
      "1097/1097 [==============================] - 0s 273us/step - loss: 0.0461 - acc: 0.9872 - val_loss: 13.5788 - val_acc: 0.1455\n",
      "Epoch 7/250\n",
      "1097/1097 [==============================] - 0s 269us/step - loss: 0.0306 - acc: 0.9918 - val_loss: 13.3367 - val_acc: 0.1455\n",
      "Epoch 8/250\n",
      "1097/1097 [==============================] - 0s 257us/step - loss: 0.0349 - acc: 0.9900 - val_loss: 7.8933 - val_acc: 0.3164\n",
      "Epoch 9/250\n",
      "1097/1097 [==============================] - 0s 262us/step - loss: 0.0236 - acc: 0.9973 - val_loss: 10.0591 - val_acc: 0.2036\n",
      "Epoch 10/250\n",
      "1097/1097 [==============================] - 0s 267us/step - loss: 0.0236 - acc: 0.9918 - val_loss: 11.1264 - val_acc: 0.2909\n",
      "Epoch 11/250\n",
      "1097/1097 [==============================] - 0s 259us/step - loss: 0.0192 - acc: 0.9964 - val_loss: 9.3308 - val_acc: 0.2400\n",
      "Epoch 12/250\n",
      "1097/1097 [==============================] - 0s 262us/step - loss: 0.0180 - acc: 0.9964 - val_loss: 5.8853 - val_acc: 0.3855\n",
      "Epoch 13/250\n",
      "1097/1097 [==============================] - 0s 262us/step - loss: 0.0215 - acc: 0.9936 - val_loss: 4.4763 - val_acc: 0.5273\n",
      "Epoch 14/250\n",
      "1097/1097 [==============================] - 0s 268us/step - loss: 0.0136 - acc: 0.9954 - val_loss: 3.4676 - val_acc: 0.5600\n",
      "Epoch 15/250\n",
      "1097/1097 [==============================] - 0s 265us/step - loss: 0.0145 - acc: 0.9982 - val_loss: 2.1530 - val_acc: 0.6836\n",
      "Epoch 16/250\n",
      "1097/1097 [==============================] - 0s 264us/step - loss: 0.0133 - acc: 0.9973 - val_loss: 2.0548 - val_acc: 0.7345\n",
      "Epoch 17/250\n",
      "1097/1097 [==============================] - 0s 258us/step - loss: 0.0175 - acc: 0.9964 - val_loss: 1.5183 - val_acc: 0.7345\n",
      "Epoch 18/250\n",
      "1097/1097 [==============================] - 0s 258us/step - loss: 0.0167 - acc: 0.9954 - val_loss: 2.7994 - val_acc: 0.6145\n",
      "Epoch 19/250\n",
      "1097/1097 [==============================] - 0s 266us/step - loss: 0.0095 - acc: 0.9991 - val_loss: 4.0574 - val_acc: 0.5636\n",
      "Epoch 20/250\n",
      "1097/1097 [==============================] - 0s 265us/step - loss: 0.0091 - acc: 0.9991 - val_loss: 4.0293 - val_acc: 0.6073\n",
      "Epoch 21/250\n",
      "1097/1097 [==============================] - 0s 264us/step - loss: 0.0128 - acc: 0.9973 - val_loss: 3.1648 - val_acc: 0.6509\n",
      "Epoch 22/250\n",
      "1097/1097 [==============================] - 0s 255us/step - loss: 0.0105 - acc: 0.9973 - val_loss: 2.2786 - val_acc: 0.6873\n",
      "Epoch 23/250\n",
      "1097/1097 [==============================] - 0s 266us/step - loss: 0.0077 - acc: 1.0000 - val_loss: 1.7338 - val_acc: 0.7527\n",
      "Epoch 24/250\n",
      "1097/1097 [==============================] - 0s 257us/step - loss: 0.0121 - acc: 0.9964 - val_loss: 1.5948 - val_acc: 0.7818\n",
      "Epoch 25/250\n",
      "1097/1097 [==============================] - 0s 261us/step - loss: 0.0095 - acc: 0.9982 - val_loss: 1.7635 - val_acc: 0.6873\n",
      "Epoch 26/250\n",
      "1097/1097 [==============================] - 0s 258us/step - loss: 0.0118 - acc: 0.9973 - val_loss: 1.4198 - val_acc: 0.7382\n",
      "Epoch 27/250\n",
      "1097/1097 [==============================] - 0s 268us/step - loss: 0.0084 - acc: 0.9982 - val_loss: 1.0363 - val_acc: 0.7527\n",
      "Epoch 28/250\n",
      "1097/1097 [==============================] - 0s 260us/step - loss: 0.0079 - acc: 0.9982 - val_loss: 0.8618 - val_acc: 0.7491\n",
      "Epoch 29/250\n",
      "1097/1097 [==============================] - 0s 259us/step - loss: 0.0075 - acc: 1.0000 - val_loss: 0.9121 - val_acc: 0.7782\n",
      "Epoch 30/250\n",
      "1097/1097 [==============================] - 0s 265us/step - loss: 0.0057 - acc: 0.9991 - val_loss: 1.1167 - val_acc: 0.7564\n",
      "Epoch 31/250\n",
      "1097/1097 [==============================] - 0s 254us/step - loss: 0.0056 - acc: 1.0000 - val_loss: 1.0551 - val_acc: 0.7636\n",
      "Epoch 32/250\n",
      "1097/1097 [==============================] - 0s 255us/step - loss: 0.0084 - acc: 0.9982 - val_loss: 0.3297 - val_acc: 0.8982\n",
      "Epoch 33/250\n",
      "1097/1097 [==============================] - 0s 259us/step - loss: 0.0056 - acc: 0.9991 - val_loss: 0.1818 - val_acc: 0.9455\n",
      "Epoch 34/250\n",
      "1097/1097 [==============================] - 0s 270us/step - loss: 0.0051 - acc: 1.0000 - val_loss: 0.1637 - val_acc: 0.9455\n",
      "Epoch 35/250\n",
      "1097/1097 [==============================] - 0s 254us/step - loss: 0.0070 - acc: 0.9991 - val_loss: 0.1481 - val_acc: 0.9564\n",
      "Epoch 36/250\n",
      "1097/1097 [==============================] - 0s 258us/step - loss: 0.0090 - acc: 0.9973 - val_loss: 0.1354 - val_acc: 0.9673\n",
      "Epoch 37/250\n",
      "1097/1097 [==============================] - 0s 269us/step - loss: 0.0053 - acc: 1.0000 - val_loss: 0.1123 - val_acc: 0.9673\n",
      "Epoch 38/250\n",
      "1097/1097 [==============================] - 0s 264us/step - loss: 0.0060 - acc: 1.0000 - val_loss: 0.1455 - val_acc: 0.9418\n",
      "Epoch 39/250\n",
      "1097/1097 [==============================] - 0s 260us/step - loss: 0.0078 - acc: 0.9982 - val_loss: 0.2236 - val_acc: 0.9273\n",
      "Epoch 40/250\n",
      "1097/1097 [==============================] - 0s 263us/step - loss: 0.0056 - acc: 0.9991 - val_loss: 0.2257 - val_acc: 0.9164\n",
      "Epoch 41/250\n",
      "1097/1097 [==============================] - 0s 260us/step - loss: 0.0044 - acc: 1.0000 - val_loss: 0.1714 - val_acc: 0.9382\n",
      "Epoch 42/250\n",
      "1097/1097 [==============================] - 0s 263us/step - loss: 0.0069 - acc: 0.9973 - val_loss: 0.1412 - val_acc: 0.9600\n",
      "Epoch 43/250\n",
      "1097/1097 [==============================] - 0s 259us/step - loss: 0.0071 - acc: 0.9991 - val_loss: 0.1789 - val_acc: 0.9455\n",
      "Epoch 44/250\n",
      "1097/1097 [==============================] - 0s 266us/step - loss: 0.0046 - acc: 1.0000 - val_loss: 0.2908 - val_acc: 0.9200\n",
      "Epoch 45/250\n",
      "1097/1097 [==============================] - 0s 257us/step - loss: 0.0072 - acc: 0.9991 - val_loss: 0.2249 - val_acc: 0.9345\n",
      "Epoch 46/250\n",
      "1097/1097 [==============================] - 0s 271us/step - loss: 0.0042 - acc: 1.0000 - val_loss: 0.1351 - val_acc: 0.9418\n",
      "Epoch 47/250\n",
      "1097/1097 [==============================] - 0s 258us/step - loss: 0.0056 - acc: 0.9991 - val_loss: 0.1252 - val_acc: 0.9600\n",
      "Epoch 48/250\n",
      "1097/1097 [==============================] - 0s 265us/step - loss: 0.0036 - acc: 1.0000 - val_loss: 0.3061 - val_acc: 0.9200\n",
      "Epoch 49/250\n",
      "1097/1097 [==============================] - 0s 266us/step - loss: 0.0050 - acc: 0.9991 - val_loss: 0.4851 - val_acc: 0.8836\n",
      "Epoch 50/250\n",
      "1097/1097 [==============================] - 0s 261us/step - loss: 0.0052 - acc: 1.0000 - val_loss: 0.3393 - val_acc: 0.9127\n",
      "Epoch 51/250\n",
      "1097/1097 [==============================] - 0s 259us/step - loss: 0.0032 - acc: 1.0000 - val_loss: 0.2510 - val_acc: 0.9309\n",
      "Epoch 52/250\n",
      "1097/1097 [==============================] - 0s 272us/step - loss: 0.0052 - acc: 1.0000 - val_loss: 0.1355 - val_acc: 0.9527\n",
      "Epoch 53/250\n",
      "1097/1097 [==============================] - 0s 259us/step - loss: 0.0037 - acc: 1.0000 - val_loss: 0.1002 - val_acc: 0.9673\n",
      "Epoch 54/250\n",
      "1097/1097 [==============================] - 0s 258us/step - loss: 0.0040 - acc: 1.0000 - val_loss: 0.0538 - val_acc: 0.9782\n",
      "Epoch 55/250\n",
      "1097/1097 [==============================] - 0s 271us/step - loss: 0.0039 - acc: 1.0000 - val_loss: 0.0458 - val_acc: 0.9818\n",
      "Epoch 56/250\n",
      "1097/1097 [==============================] - 0s 263us/step - loss: 0.0040 - acc: 1.0000 - val_loss: 0.0499 - val_acc: 0.9782\n",
      "Epoch 57/250\n",
      "1097/1097 [==============================] - 0s 256us/step - loss: 0.0062 - acc: 0.9991 - val_loss: 0.1151 - val_acc: 0.9600\n",
      "Epoch 58/250\n",
      "1097/1097 [==============================] - 0s 255us/step - loss: 0.0035 - acc: 1.0000 - val_loss: 0.2229 - val_acc: 0.9345\n",
      "Epoch 59/250\n",
      "1097/1097 [==============================] - 0s 279us/step - loss: 0.0035 - acc: 1.0000 - val_loss: 0.1888 - val_acc: 0.9382\n",
      "Epoch 60/250\n",
      "1097/1097 [==============================] - 0s 262us/step - loss: 0.0052 - acc: 0.9982 - val_loss: 0.1048 - val_acc: 0.9745\n",
      "Epoch 61/250\n",
      "1097/1097 [==============================] - 0s 255us/step - loss: 0.0043 - acc: 1.0000 - val_loss: 0.0992 - val_acc: 0.9745\n",
      "Epoch 62/250\n",
      "1097/1097 [==============================] - 0s 268us/step - loss: 0.0033 - acc: 1.0000 - val_loss: 0.0923 - val_acc: 0.9745\n",
      "Epoch 63/250\n",
      "1097/1097 [==============================] - 0s 261us/step - loss: 0.0049 - acc: 0.9991 - val_loss: 0.0825 - val_acc: 0.9818\n",
      "Epoch 64/250\n",
      "1097/1097 [==============================] - 0s 261us/step - loss: 0.0040 - acc: 1.0000 - val_loss: 0.0639 - val_acc: 0.9818\n",
      "Epoch 65/250\n",
      "1097/1097 [==============================] - 0s 259us/step - loss: 0.0046 - acc: 0.9991 - val_loss: 0.1097 - val_acc: 0.9527\n",
      "Epoch 66/250\n",
      "1097/1097 [==============================] - 0s 268us/step - loss: 0.0022 - acc: 1.0000 - val_loss: 0.1323 - val_acc: 0.9418\n",
      "Epoch 67/250\n",
      "1097/1097 [==============================] - 0s 259us/step - loss: 0.0050 - acc: 1.0000 - val_loss: 0.1009 - val_acc: 0.9564\n",
      "Epoch 68/250\n",
      "1097/1097 [==============================] - 0s 258us/step - loss: 0.0049 - acc: 1.0000 - val_loss: 0.0607 - val_acc: 0.9855\n",
      "Epoch 69/250\n",
      "1097/1097 [==============================] - 0s 266us/step - loss: 0.0022 - acc: 1.0000 - val_loss: 0.0649 - val_acc: 0.9855\n",
      "Epoch 70/250\n",
      "1097/1097 [==============================] - 0s 254us/step - loss: 0.0033 - acc: 0.9991 - val_loss: 0.0693 - val_acc: 0.9782\n",
      "Epoch 71/250\n",
      "1097/1097 [==============================] - 0s 255us/step - loss: 0.0033 - acc: 0.9991 - val_loss: 0.0711 - val_acc: 0.9782\n",
      "Epoch 72/250\n",
      "1097/1097 [==============================] - 0s 256us/step - loss: 0.0030 - acc: 1.0000 - val_loss: 0.0651 - val_acc: 0.9855\n",
      "Epoch 73/250\n",
      "1097/1097 [==============================] - 0s 260us/step - loss: 0.0039 - acc: 0.9991 - val_loss: 0.0668 - val_acc: 0.9782\n",
      "Epoch 74/250\n",
      "1097/1097 [==============================] - 0s 257us/step - loss: 0.0048 - acc: 1.0000 - val_loss: 0.0701 - val_acc: 0.9782\n",
      "Epoch 75/250\n",
      "1097/1097 [==============================] - 0s 253us/step - loss: 0.0050 - acc: 1.0000 - val_loss: 0.0672 - val_acc: 0.9782\n",
      "Epoch 76/250\n",
      "1097/1097 [==============================] - 0s 266us/step - loss: 0.0032 - acc: 1.0000 - val_loss: 0.2539 - val_acc: 0.9345\n",
      "Epoch 77/250\n",
      "1097/1097 [==============================] - 0s 266us/step - loss: 0.0025 - acc: 1.0000 - val_loss: 0.3700 - val_acc: 0.9091\n",
      "Epoch 78/250\n",
      "1097/1097 [==============================] - 0s 262us/step - loss: 0.0051 - acc: 0.9991 - val_loss: 0.2333 - val_acc: 0.9382\n",
      "Epoch 79/250\n",
      "1097/1097 [==============================] - 0s 260us/step - loss: 0.0023 - acc: 1.0000 - val_loss: 0.1101 - val_acc: 0.9745\n",
      "Epoch 80/250\n",
      "1097/1097 [==============================] - 0s 271us/step - loss: 0.0032 - acc: 1.0000 - val_loss: 0.0835 - val_acc: 0.9818\n",
      "Epoch 81/250\n",
      "1097/1097 [==============================] - 0s 262us/step - loss: 0.0031 - acc: 1.0000 - val_loss: 0.0759 - val_acc: 0.9782\n",
      "Epoch 82/250\n",
      "1097/1097 [==============================] - 0s 266us/step - loss: 0.0052 - acc: 0.9991 - val_loss: 0.0768 - val_acc: 0.9782\n",
      "Epoch 83/250\n",
      "1097/1097 [==============================] - 0s 265us/step - loss: 0.0028 - acc: 1.0000 - val_loss: 0.4104 - val_acc: 0.9055\n",
      "Epoch 84/250\n",
      "1097/1097 [==============================] - 0s 267us/step - loss: 0.0043 - acc: 0.9991 - val_loss: 0.4778 - val_acc: 0.8909\n",
      "Epoch 85/250\n",
      "1097/1097 [==============================] - 0s 265us/step - loss: 0.0035 - acc: 0.9991 - val_loss: 0.3151 - val_acc: 0.9164\n",
      "Epoch 86/250\n",
      "1097/1097 [==============================] - 0s 260us/step - loss: 0.0031 - acc: 1.0000 - val_loss: 0.2098 - val_acc: 0.9382\n",
      "Epoch 87/250\n",
      "1097/1097 [==============================] - 0s 263us/step - loss: 0.0031 - acc: 0.9991 - val_loss: 0.1500 - val_acc: 0.9600\n",
      "Epoch 88/250\n",
      "1097/1097 [==============================] - 0s 259us/step - loss: 0.0054 - acc: 0.9982 - val_loss: 0.0700 - val_acc: 0.9855\n",
      "Epoch 89/250\n",
      "1097/1097 [==============================] - 0s 264us/step - loss: 0.0032 - acc: 1.0000 - val_loss: 0.1951 - val_acc: 0.9345\n",
      "Epoch 90/250\n",
      "1097/1097 [==============================] - 0s 263us/step - loss: 0.0034 - acc: 1.0000 - val_loss: 0.2217 - val_acc: 0.9273\n",
      "Epoch 91/250\n",
      "1097/1097 [==============================] - 0s 264us/step - loss: 0.0032 - acc: 1.0000 - val_loss: 0.2381 - val_acc: 0.9309\n",
      "Epoch 92/250\n",
      "1097/1097 [==============================] - 0s 263us/step - loss: 0.0034 - acc: 1.0000 - val_loss: 0.2240 - val_acc: 0.9345\n",
      "Epoch 93/250\n",
      "1097/1097 [==============================] - 0s 262us/step - loss: 0.0022 - acc: 1.0000 - val_loss: 0.1672 - val_acc: 0.9455\n",
      "Epoch 94/250\n",
      "1097/1097 [==============================] - 0s 262us/step - loss: 0.0029 - acc: 1.0000 - val_loss: 0.1223 - val_acc: 0.9527\n",
      "Epoch 95/250\n",
      "1097/1097 [==============================] - 0s 262us/step - loss: 0.0030 - acc: 1.0000 - val_loss: 0.1021 - val_acc: 0.9673\n",
      "Epoch 96/250\n",
      "1097/1097 [==============================] - 0s 261us/step - loss: 0.0023 - acc: 1.0000 - val_loss: 0.1341 - val_acc: 0.9491\n",
      "Epoch 97/250\n",
      "1097/1097 [==============================] - 0s 263us/step - loss: 0.0043 - acc: 0.9991 - val_loss: 0.0850 - val_acc: 0.9673\n",
      "Epoch 98/250\n",
      "1097/1097 [==============================] - 0s 264us/step - loss: 0.0019 - acc: 1.0000 - val_loss: 0.0627 - val_acc: 0.9818\n",
      "Epoch 99/250\n",
      "1097/1097 [==============================] - 0s 268us/step - loss: 0.0034 - acc: 1.0000 - val_loss: 0.0511 - val_acc: 0.9855\n",
      "Epoch 100/250\n",
      "1097/1097 [==============================] - 0s 259us/step - loss: 0.0027 - acc: 1.0000 - val_loss: 0.0634 - val_acc: 0.9782\n",
      "Epoch 101/250\n",
      "1097/1097 [==============================] - 0s 267us/step - loss: 0.0022 - acc: 1.0000 - val_loss: 0.0728 - val_acc: 0.9745\n",
      "Epoch 102/250\n",
      "1097/1097 [==============================] - 0s 263us/step - loss: 0.0037 - acc: 0.9991 - val_loss: 0.1012 - val_acc: 0.9673\n",
      "Epoch 103/250\n",
      "1097/1097 [==============================] - 0s 263us/step - loss: 0.0017 - acc: 1.0000 - val_loss: 0.1099 - val_acc: 0.9673\n",
      "Epoch 104/250\n",
      "1097/1097 [==============================] - 0s 265us/step - loss: 0.0024 - acc: 1.0000 - val_loss: 0.1095 - val_acc: 0.9636\n",
      "Epoch 105/250\n",
      "1097/1097 [==============================] - 0s 273us/step - loss: 0.0035 - acc: 0.9991 - val_loss: 0.0792 - val_acc: 0.9745\n",
      "Epoch 106/250\n",
      "1097/1097 [==============================] - 0s 263us/step - loss: 0.0026 - acc: 1.0000 - val_loss: 0.0365 - val_acc: 0.9818\n",
      "Epoch 107/250\n",
      "1097/1097 [==============================] - 0s 262us/step - loss: 0.0040 - acc: 0.9991 - val_loss: 0.0343 - val_acc: 0.9855\n",
      "Epoch 108/250\n",
      "1097/1097 [==============================] - 0s 265us/step - loss: 0.0026 - acc: 1.0000 - val_loss: 0.0461 - val_acc: 0.9855\n",
      "Epoch 109/250\n",
      "1097/1097 [==============================] - 0s 264us/step - loss: 0.0022 - acc: 1.0000 - val_loss: 0.0658 - val_acc: 0.9745\n",
      "Epoch 110/250\n",
      "1097/1097 [==============================] - 0s 258us/step - loss: 0.0021 - acc: 1.0000 - val_loss: 0.0802 - val_acc: 0.9745\n",
      "Epoch 111/250\n",
      "1097/1097 [==============================] - 0s 261us/step - loss: 0.0034 - acc: 1.0000 - val_loss: 0.0681 - val_acc: 0.9709\n",
      "Epoch 112/250\n",
      "1097/1097 [==============================] - 0s 271us/step - loss: 0.0020 - acc: 1.0000 - val_loss: 0.0648 - val_acc: 0.9709\n",
      "Epoch 113/250\n",
      "1097/1097 [==============================] - 0s 263us/step - loss: 0.0020 - acc: 1.0000 - val_loss: 0.0753 - val_acc: 0.9709\n",
      "Epoch 114/250\n",
      "1097/1097 [==============================] - 0s 262us/step - loss: 0.0021 - acc: 1.0000 - val_loss: 0.0846 - val_acc: 0.9709\n",
      "Epoch 115/250\n",
      "1097/1097 [==============================] - 0s 269us/step - loss: 0.0035 - acc: 1.0000 - val_loss: 0.0795 - val_acc: 0.9709\n",
      "Epoch 116/250\n",
      "1097/1097 [==============================] - 0s 266us/step - loss: 0.0025 - acc: 1.0000 - val_loss: 0.0634 - val_acc: 0.9782\n",
      "Epoch 117/250\n",
      "1097/1097 [==============================] - 0s 264us/step - loss: 0.0035 - acc: 1.0000 - val_loss: 0.0646 - val_acc: 0.9782\n",
      "Epoch 118/250\n",
      "1097/1097 [==============================] - 0s 260us/step - loss: 0.0028 - acc: 1.0000 - val_loss: 0.0524 - val_acc: 0.9782\n",
      "Epoch 119/250\n",
      "1097/1097 [==============================] - 0s 278us/step - loss: 0.0023 - acc: 1.0000 - val_loss: 0.0504 - val_acc: 0.9891\n",
      "Epoch 120/250\n",
      "1097/1097 [==============================] - 0s 266us/step - loss: 0.0020 - acc: 1.0000 - val_loss: 0.0592 - val_acc: 0.9855\n",
      "Epoch 121/250\n",
      "1097/1097 [==============================] - 0s 260us/step - loss: 0.0017 - acc: 1.0000 - val_loss: 0.0678 - val_acc: 0.9855\n",
      "Epoch 122/250\n",
      "1097/1097 [==============================] - 0s 264us/step - loss: 0.0019 - acc: 1.0000 - val_loss: 0.0754 - val_acc: 0.9855\n",
      "Epoch 123/250\n",
      "1097/1097 [==============================] - 0s 262us/step - loss: 0.0020 - acc: 1.0000 - val_loss: 0.0819 - val_acc: 0.9855\n",
      "Epoch 124/250\n",
      "1097/1097 [==============================] - 0s 269us/step - loss: 0.0029 - acc: 0.9991 - val_loss: 0.0603 - val_acc: 0.9891\n",
      "Epoch 125/250\n",
      "1097/1097 [==============================] - 0s 279us/step - loss: 0.0016 - acc: 1.0000 - val_loss: 0.0614 - val_acc: 0.9891\n",
      "Epoch 126/250\n",
      "1097/1097 [==============================] - 0s 271us/step - loss: 0.0019 - acc: 1.0000 - val_loss: 0.0678 - val_acc: 0.9891\n",
      "Epoch 127/250\n",
      "1097/1097 [==============================] - 0s 262us/step - loss: 0.0028 - acc: 0.9991 - val_loss: 0.0655 - val_acc: 0.9891\n",
      "Epoch 128/250\n",
      "1097/1097 [==============================] - 0s 257us/step - loss: 0.0023 - acc: 1.0000 - val_loss: 0.0667 - val_acc: 0.9891\n",
      "Epoch 129/250\n",
      "1097/1097 [==============================] - 0s 274us/step - loss: 0.0024 - acc: 1.0000 - val_loss: 0.0705 - val_acc: 0.9891\n",
      "Epoch 130/250\n",
      "1097/1097 [==============================] - 0s 264us/step - loss: 0.0022 - acc: 1.0000 - val_loss: 0.0397 - val_acc: 0.9891\n",
      "Epoch 131/250\n",
      "1097/1097 [==============================] - 0s 259us/step - loss: 0.0020 - acc: 1.0000 - val_loss: 0.0321 - val_acc: 0.9891\n",
      "Epoch 132/250\n",
      "1097/1097 [==============================] - 0s 263us/step - loss: 0.0029 - acc: 1.0000 - val_loss: 0.0329 - val_acc: 0.9891\n",
      "Epoch 133/250\n",
      "1097/1097 [==============================] - 0s 264us/step - loss: 0.0011 - acc: 1.0000 - val_loss: 0.0397 - val_acc: 0.9891\n",
      "Epoch 134/250\n",
      "1097/1097 [==============================] - 0s 269us/step - loss: 0.0012 - acc: 1.0000 - val_loss: 0.0492 - val_acc: 0.9891\n",
      "Epoch 135/250\n",
      "1097/1097 [==============================] - 0s 257us/step - loss: 0.0024 - acc: 1.0000 - val_loss: 0.0487 - val_acc: 0.9782\n",
      "Epoch 136/250\n",
      "1097/1097 [==============================] - 0s 267us/step - loss: 0.0026 - acc: 1.0000 - val_loss: 0.0552 - val_acc: 0.9855\n",
      "Epoch 137/250\n",
      "1097/1097 [==============================] - 0s 264us/step - loss: 0.0017 - acc: 1.0000 - val_loss: 0.0737 - val_acc: 0.9891\n",
      "Epoch 138/250\n",
      "1097/1097 [==============================] - 0s 261us/step - loss: 0.0022 - acc: 1.0000 - val_loss: 0.0785 - val_acc: 0.9891\n",
      "Epoch 139/250\n",
      "1097/1097 [==============================] - 0s 258us/step - loss: 0.0016 - acc: 1.0000 - val_loss: 0.0719 - val_acc: 0.9891\n",
      "Epoch 140/250\n",
      "1097/1097 [==============================] - 0s 270us/step - loss: 0.0019 - acc: 1.0000 - val_loss: 0.0671 - val_acc: 0.9891\n",
      "Epoch 141/250\n",
      "1097/1097 [==============================] - 0s 261us/step - loss: 0.0022 - acc: 1.0000 - val_loss: 0.0739 - val_acc: 0.9855\n",
      "Epoch 142/250\n",
      "1097/1097 [==============================] - 0s 265us/step - loss: 0.0023 - acc: 1.0000 - val_loss: 0.0743 - val_acc: 0.9855\n",
      "Epoch 143/250\n",
      "1097/1097 [==============================] - 0s 269us/step - loss: 0.0016 - acc: 1.0000 - val_loss: 0.0814 - val_acc: 0.9818\n",
      "Epoch 144/250\n",
      "1097/1097 [==============================] - 0s 260us/step - loss: 0.0033 - acc: 1.0000 - val_loss: 0.0719 - val_acc: 0.9855\n",
      "Epoch 145/250\n",
      "1097/1097 [==============================] - 0s 261us/step - loss: 0.0019 - acc: 1.0000 - val_loss: 0.0481 - val_acc: 0.9891\n",
      "Epoch 146/250\n",
      "1097/1097 [==============================] - 0s 261us/step - loss: 0.0040 - acc: 0.9991 - val_loss: 0.0394 - val_acc: 0.9891\n",
      "Epoch 147/250\n",
      "1097/1097 [==============================] - 0s 273us/step - loss: 0.0021 - acc: 1.0000 - val_loss: 0.0383 - val_acc: 0.9891\n",
      "Epoch 148/250\n",
      "1097/1097 [==============================] - 0s 256us/step - loss: 0.0013 - acc: 1.0000 - val_loss: 0.0402 - val_acc: 0.9891\n",
      "Epoch 149/250\n",
      "1097/1097 [==============================] - 0s 258us/step - loss: 0.0014 - acc: 1.0000 - val_loss: 0.0449 - val_acc: 0.9855\n",
      "Epoch 150/250\n",
      "1097/1097 [==============================] - 0s 266us/step - loss: 0.0019 - acc: 1.0000 - val_loss: 0.0452 - val_acc: 0.9855\n",
      "Epoch 151/250\n",
      "1097/1097 [==============================] - 0s 262us/step - loss: 0.0030 - acc: 1.0000 - val_loss: 0.0421 - val_acc: 0.9891\n",
      "Epoch 152/250\n",
      "1097/1097 [==============================] - 0s 261us/step - loss: 0.0012 - acc: 1.0000 - val_loss: 0.0423 - val_acc: 0.9891\n",
      "Epoch 153/250\n",
      "1097/1097 [==============================] - 0s 263us/step - loss: 0.0016 - acc: 1.0000 - val_loss: 0.0426 - val_acc: 0.9891\n",
      "Epoch 154/250\n",
      "1097/1097 [==============================] - 0s 267us/step - loss: 0.0019 - acc: 1.0000 - val_loss: 0.0457 - val_acc: 0.9891\n",
      "Epoch 155/250\n",
      "1097/1097 [==============================] - 0s 264us/step - loss: 0.0032 - acc: 1.0000 - val_loss: 0.0587 - val_acc: 0.9782\n",
      "Epoch 156/250\n",
      "1097/1097 [==============================] - 0s 263us/step - loss: 0.0012 - acc: 1.0000 - val_loss: 0.0684 - val_acc: 0.9782\n",
      "Epoch 157/250\n",
      "1097/1097 [==============================] - 0s 271us/step - loss: 0.0016 - acc: 1.0000 - val_loss: 0.0770 - val_acc: 0.9782\n",
      "Epoch 158/250\n",
      "1097/1097 [==============================] - 0s 268us/step - loss: 0.0012 - acc: 1.0000 - val_loss: 0.1017 - val_acc: 0.9782\n",
      "Epoch 159/250\n",
      "1097/1097 [==============================] - 0s 263us/step - loss: 0.0014 - acc: 1.0000 - val_loss: 0.1149 - val_acc: 0.9745\n",
      "Epoch 160/250\n",
      "1097/1097 [==============================] - 0s 267us/step - loss: 0.0017 - acc: 1.0000 - val_loss: 0.1149 - val_acc: 0.9709\n",
      "Epoch 161/250\n",
      "1097/1097 [==============================] - 0s 278us/step - loss: 0.0022 - acc: 1.0000 - val_loss: 0.1362 - val_acc: 0.9709\n",
      "Epoch 162/250\n",
      "1097/1097 [==============================] - 0s 269us/step - loss: 0.0013 - acc: 1.0000 - val_loss: 0.1340 - val_acc: 0.9709\n",
      "Epoch 163/250\n",
      "1097/1097 [==============================] - 0s 270us/step - loss: 0.0025 - acc: 1.0000 - val_loss: 0.1405 - val_acc: 0.9709\n",
      "Epoch 164/250\n",
      "1097/1097 [==============================] - 0s 271us/step - loss: 0.0014 - acc: 1.0000 - val_loss: 0.1487 - val_acc: 0.9709\n",
      "Epoch 165/250\n",
      "1097/1097 [==============================] - 0s 270us/step - loss: 0.0019 - acc: 1.0000 - val_loss: 0.1082 - val_acc: 0.9709\n",
      "Epoch 166/250\n",
      "1097/1097 [==============================] - 0s 265us/step - loss: 0.0011 - acc: 1.0000 - val_loss: 0.0932 - val_acc: 0.9745\n",
      "Epoch 167/250\n",
      "1097/1097 [==============================] - 0s 265us/step - loss: 0.0011 - acc: 1.0000 - val_loss: 0.0820 - val_acc: 0.9782\n",
      "Epoch 168/250\n",
      "1097/1097 [==============================] - 0s 274us/step - loss: 0.0016 - acc: 1.0000 - val_loss: 0.0711 - val_acc: 0.9782\n",
      "Epoch 169/250\n",
      "1097/1097 [==============================] - 0s 265us/step - loss: 0.0017 - acc: 1.0000 - val_loss: 0.0664 - val_acc: 0.9782\n",
      "Epoch 170/250\n",
      "1097/1097 [==============================] - 0s 266us/step - loss: 0.0013 - acc: 1.0000 - val_loss: 0.0632 - val_acc: 0.9782\n",
      "Epoch 171/250\n",
      "1097/1097 [==============================] - 0s 266us/step - loss: 0.0014 - acc: 1.0000 - val_loss: 0.0629 - val_acc: 0.9818\n",
      "Epoch 172/250\n",
      "1097/1097 [==============================] - 0s 261us/step - loss: 0.0020 - acc: 1.0000 - val_loss: 0.0640 - val_acc: 0.9891\n",
      "Epoch 173/250\n",
      "1097/1097 [==============================] - 0s 263us/step - loss: 0.0022 - acc: 1.0000 - val_loss: 0.0802 - val_acc: 0.9818\n",
      "Epoch 174/250\n",
      "1097/1097 [==============================] - 0s 267us/step - loss: 0.0017 - acc: 1.0000 - val_loss: 0.0833 - val_acc: 0.9709\n",
      "Epoch 175/250\n",
      "1097/1097 [==============================] - 0s 272us/step - loss: 0.0021 - acc: 1.0000 - val_loss: 0.0855 - val_acc: 0.9709\n",
      "Epoch 176/250\n",
      "1097/1097 [==============================] - 0s 266us/step - loss: 0.0014 - acc: 1.0000 - val_loss: 0.0813 - val_acc: 0.9709\n",
      "Epoch 177/250\n",
      "1097/1097 [==============================] - 0s 260us/step - loss: 0.0016 - acc: 1.0000 - val_loss: 0.0962 - val_acc: 0.9709\n",
      "Epoch 178/250\n",
      "1097/1097 [==============================] - 0s 273us/step - loss: 0.0013 - acc: 1.0000 - val_loss: 0.0763 - val_acc: 0.9709\n",
      "Epoch 179/250\n",
      "1097/1097 [==============================] - 0s 261us/step - loss: 0.0019 - acc: 1.0000 - val_loss: 0.0659 - val_acc: 0.9782\n",
      "Epoch 180/250\n",
      "1097/1097 [==============================] - 0s 264us/step - loss: 0.0025 - acc: 1.0000 - val_loss: 0.0474 - val_acc: 0.9782\n",
      "Epoch 181/250\n",
      "1097/1097 [==============================] - 0s 262us/step - loss: 0.0016 - acc: 1.0000 - val_loss: 0.0389 - val_acc: 0.9818\n",
      "Epoch 182/250\n",
      "1097/1097 [==============================] - 0s 275us/step - loss: 8.9687e-04 - acc: 1.0000 - val_loss: 0.0379 - val_acc: 0.9855\n",
      "Epoch 183/250\n",
      "1097/1097 [==============================] - 0s 262us/step - loss: 0.0029 - acc: 0.9991 - val_loss: 0.0370 - val_acc: 0.9782\n",
      "Epoch 184/250\n",
      "1097/1097 [==============================] - 0s 267us/step - loss: 0.0014 - acc: 1.0000 - val_loss: 0.0286 - val_acc: 0.9891\n",
      "Epoch 185/250\n",
      "1097/1097 [==============================] - 0s 269us/step - loss: 0.0013 - acc: 1.0000 - val_loss: 0.0306 - val_acc: 0.9891\n",
      "Epoch 186/250\n",
      "1097/1097 [==============================] - 0s 267us/step - loss: 0.0011 - acc: 1.0000 - val_loss: 0.0348 - val_acc: 0.9818\n",
      "Epoch 187/250\n",
      "1097/1097 [==============================] - 0s 271us/step - loss: 0.0013 - acc: 1.0000 - val_loss: 0.0338 - val_acc: 0.9855\n",
      "Epoch 188/250\n",
      "1097/1097 [==============================] - 0s 273us/step - loss: 0.0024 - acc: 1.0000 - val_loss: 0.0341 - val_acc: 0.9891\n",
      "Epoch 189/250\n",
      "1097/1097 [==============================] - 0s 274us/step - loss: 0.0011 - acc: 1.0000 - val_loss: 0.0534 - val_acc: 0.9855\n",
      "Epoch 190/250\n",
      "1097/1097 [==============================] - 0s 258us/step - loss: 0.0013 - acc: 1.0000 - val_loss: 0.0672 - val_acc: 0.9818\n",
      "Epoch 191/250\n",
      "1097/1097 [==============================] - 0s 265us/step - loss: 0.0021 - acc: 1.0000 - val_loss: 0.0760 - val_acc: 0.9709\n",
      "Epoch 192/250\n",
      "1097/1097 [==============================] - 0s 268us/step - loss: 0.0016 - acc: 1.0000 - val_loss: 0.0613 - val_acc: 0.9891\n",
      "Epoch 193/250\n",
      "1097/1097 [==============================] - 0s 262us/step - loss: 0.0012 - acc: 1.0000 - val_loss: 0.0638 - val_acc: 0.9891\n",
      "Epoch 194/250\n",
      "1097/1097 [==============================] - 0s 259us/step - loss: 0.0013 - acc: 1.0000 - val_loss: 0.0630 - val_acc: 0.9891\n",
      "Epoch 195/250\n",
      "1097/1097 [==============================] - 0s 258us/step - loss: 0.0012 - acc: 1.0000 - val_loss: 0.0609 - val_acc: 0.9855\n",
      "Epoch 196/250\n",
      "1097/1097 [==============================] - 0s 265us/step - loss: 0.0017 - acc: 1.0000 - val_loss: 0.0623 - val_acc: 0.9855\n",
      "Epoch 197/250\n",
      "1097/1097 [==============================] - 0s 261us/step - loss: 0.0018 - acc: 1.0000 - val_loss: 0.0688 - val_acc: 0.9855\n",
      "Epoch 198/250\n",
      "1097/1097 [==============================] - 0s 260us/step - loss: 0.0012 - acc: 1.0000 - val_loss: 0.0737 - val_acc: 0.9855\n",
      "Epoch 199/250\n",
      "1097/1097 [==============================] - 0s 271us/step - loss: 0.0015 - acc: 1.0000 - val_loss: 0.0610 - val_acc: 0.9891\n",
      "Epoch 200/250\n",
      "1097/1097 [==============================] - 0s 259us/step - loss: 0.0010 - acc: 1.0000 - val_loss: 0.0572 - val_acc: 0.9891\n",
      "Epoch 201/250\n",
      "1097/1097 [==============================] - 0s 257us/step - loss: 9.9286e-04 - acc: 1.0000 - val_loss: 0.0578 - val_acc: 0.9891\n",
      "Epoch 202/250\n",
      "1097/1097 [==============================] - 0s 264us/step - loss: 0.0022 - acc: 1.0000 - val_loss: 0.0830 - val_acc: 0.9745\n",
      "Epoch 203/250\n",
      "1097/1097 [==============================] - 0s 263us/step - loss: 0.0013 - acc: 1.0000 - val_loss: 0.1087 - val_acc: 0.9673\n",
      "Epoch 204/250\n",
      "1097/1097 [==============================] - 0s 256us/step - loss: 0.0014 - acc: 1.0000 - val_loss: 0.1002 - val_acc: 0.9709\n",
      "Epoch 205/250\n",
      "1097/1097 [==============================] - 0s 261us/step - loss: 0.0010 - acc: 1.0000 - val_loss: 0.0834 - val_acc: 0.9745\n",
      "Epoch 206/250\n",
      "1097/1097 [==============================] - 0s 268us/step - loss: 0.0013 - acc: 1.0000 - val_loss: 0.0689 - val_acc: 0.9782\n",
      "Epoch 207/250\n",
      "1097/1097 [==============================] - 0s 257us/step - loss: 0.0013 - acc: 1.0000 - val_loss: 0.0647 - val_acc: 0.9891\n",
      "Epoch 208/250\n",
      "1097/1097 [==============================] - 0s 262us/step - loss: 0.0019 - acc: 1.0000 - val_loss: 0.0595 - val_acc: 0.9891\n",
      "Epoch 209/250\n",
      "1097/1097 [==============================] - 0s 262us/step - loss: 8.9569e-04 - acc: 1.0000 - val_loss: 0.0479 - val_acc: 0.9891\n",
      "Epoch 210/250\n",
      "1097/1097 [==============================] - 0s 262us/step - loss: 0.0016 - acc: 1.0000 - val_loss: 0.0443 - val_acc: 0.9855\n",
      "Epoch 211/250\n",
      "1097/1097 [==============================] - 0s 261us/step - loss: 0.0013 - acc: 1.0000 - val_loss: 0.0418 - val_acc: 0.9855\n",
      "Epoch 212/250\n",
      "1097/1097 [==============================] - 0s 261us/step - loss: 0.0018 - acc: 1.0000 - val_loss: 0.0395 - val_acc: 0.9891\n",
      "Epoch 213/250\n",
      "1097/1097 [==============================] - 0s 257us/step - loss: 0.0016 - acc: 1.0000 - val_loss: 0.0439 - val_acc: 0.9855\n",
      "Epoch 214/250\n",
      "1097/1097 [==============================] - 0s 260us/step - loss: 0.0017 - acc: 1.0000 - val_loss: 0.0712 - val_acc: 0.9782\n",
      "Epoch 215/250\n",
      "1097/1097 [==============================] - 0s 256us/step - loss: 0.0017 - acc: 1.0000 - val_loss: 0.1092 - val_acc: 0.9636\n",
      "Epoch 216/250\n",
      "1097/1097 [==============================] - 0s 260us/step - loss: 0.0010 - acc: 1.0000 - val_loss: 0.1169 - val_acc: 0.9636\n",
      "Epoch 217/250\n",
      "1097/1097 [==============================] - 0s 263us/step - loss: 0.0014 - acc: 1.0000 - val_loss: 0.0995 - val_acc: 0.9673\n",
      "Epoch 218/250\n",
      "1097/1097 [==============================] - 0s 262us/step - loss: 0.0011 - acc: 1.0000 - val_loss: 0.0917 - val_acc: 0.9673\n",
      "Epoch 219/250\n",
      "1097/1097 [==============================] - 0s 269us/step - loss: 0.0010 - acc: 1.0000 - val_loss: 0.0734 - val_acc: 0.9709\n",
      "Epoch 220/250\n",
      "1097/1097 [==============================] - 0s 263us/step - loss: 0.0014 - acc: 1.0000 - val_loss: 0.0612 - val_acc: 0.9709\n",
      "Epoch 221/250\n",
      "1097/1097 [==============================] - 0s 264us/step - loss: 0.0012 - acc: 1.0000 - val_loss: 0.0565 - val_acc: 0.9745\n",
      "Epoch 222/250\n",
      "1097/1097 [==============================] - 0s 257us/step - loss: 9.2252e-04 - acc: 1.0000 - val_loss: 0.0613 - val_acc: 0.9745\n",
      "Epoch 223/250\n",
      "1097/1097 [==============================] - 0s 262us/step - loss: 0.0020 - acc: 1.0000 - val_loss: 0.0546 - val_acc: 0.9818\n",
      "Epoch 224/250\n",
      "1097/1097 [==============================] - 0s 272us/step - loss: 0.0017 - acc: 1.0000 - val_loss: 0.0606 - val_acc: 0.9745\n",
      "Epoch 225/250\n",
      "1097/1097 [==============================] - 0s 259us/step - loss: 0.0010 - acc: 1.0000 - val_loss: 0.0574 - val_acc: 0.9745\n",
      "Epoch 226/250\n",
      "1097/1097 [==============================] - 0s 262us/step - loss: 7.7824e-04 - acc: 1.0000 - val_loss: 0.0559 - val_acc: 0.9818\n",
      "Epoch 227/250\n",
      "1097/1097 [==============================] - 0s 258us/step - loss: 0.0019 - acc: 1.0000 - val_loss: 0.0700 - val_acc: 0.9745\n",
      "Epoch 228/250\n",
      "1097/1097 [==============================] - 0s 258us/step - loss: 0.0010 - acc: 1.0000 - val_loss: 0.0584 - val_acc: 0.9782\n",
      "Epoch 229/250\n",
      "1097/1097 [==============================] - 0s 263us/step - loss: 0.0011 - acc: 1.0000 - val_loss: 0.0533 - val_acc: 0.9818\n",
      "Epoch 230/250\n",
      "1097/1097 [==============================] - 0s 260us/step - loss: 0.0013 - acc: 1.0000 - val_loss: 0.0498 - val_acc: 0.9818\n",
      "Epoch 231/250\n",
      "1097/1097 [==============================] - 0s 269us/step - loss: 0.0011 - acc: 1.0000 - val_loss: 0.0504 - val_acc: 0.9818\n",
      "Epoch 232/250\n",
      "1097/1097 [==============================] - 0s 257us/step - loss: 0.0013 - acc: 1.0000 - val_loss: 0.0529 - val_acc: 0.9818\n",
      "Epoch 233/250\n",
      "1097/1097 [==============================] - 0s 261us/step - loss: 0.0015 - acc: 1.0000 - val_loss: 0.0602 - val_acc: 0.9855\n",
      "Epoch 234/250\n",
      "1097/1097 [==============================] - 0s 261us/step - loss: 0.0013 - acc: 1.0000 - val_loss: 0.0631 - val_acc: 0.9891\n",
      "Epoch 235/250\n",
      "1097/1097 [==============================] - 0s 266us/step - loss: 9.9564e-04 - acc: 1.0000 - val_loss: 0.0559 - val_acc: 0.9891\n",
      "Epoch 236/250\n",
      "1097/1097 [==============================] - 0s 260us/step - loss: 0.0018 - acc: 1.0000 - val_loss: 0.0520 - val_acc: 0.9891\n",
      "Epoch 237/250\n",
      "1097/1097 [==============================] - 0s 264us/step - loss: 9.7652e-04 - acc: 1.0000 - val_loss: 0.0575 - val_acc: 0.9891\n",
      "Epoch 238/250\n",
      "1097/1097 [==============================] - 0s 271us/step - loss: 0.0015 - acc: 1.0000 - val_loss: 0.0610 - val_acc: 0.9891\n",
      "Epoch 239/250\n",
      "1097/1097 [==============================] - 0s 261us/step - loss: 8.5924e-04 - acc: 1.0000 - val_loss: 0.0592 - val_acc: 0.9891\n",
      "Epoch 240/250\n",
      "1097/1097 [==============================] - 0s 263us/step - loss: 0.0011 - acc: 1.0000 - val_loss: 0.0631 - val_acc: 0.9891\n",
      "Epoch 241/250\n",
      "1097/1097 [==============================] - 0s 261us/step - loss: 0.0019 - acc: 1.0000 - val_loss: 0.0541 - val_acc: 0.9891\n",
      "Epoch 242/250\n",
      "1097/1097 [==============================] - 0s 263us/step - loss: 0.0011 - acc: 1.0000 - val_loss: 0.0492 - val_acc: 0.9891\n",
      "Epoch 243/250\n",
      "1097/1097 [==============================] - 0s 260us/step - loss: 0.0019 - acc: 1.0000 - val_loss: 0.0531 - val_acc: 0.9891\n",
      "Epoch 244/250\n",
      "1097/1097 [==============================] - 0s 257us/step - loss: 0.0015 - acc: 1.0000 - val_loss: 0.0543 - val_acc: 0.9891\n",
      "Epoch 245/250\n",
      "1097/1097 [==============================] - 0s 263us/step - loss: 0.0017 - acc: 1.0000 - val_loss: 0.0511 - val_acc: 0.9891\n",
      "Epoch 246/250\n",
      "1097/1097 [==============================] - 0s 264us/step - loss: 0.0013 - acc: 1.0000 - val_loss: 0.0590 - val_acc: 0.9891\n",
      "Epoch 247/250\n",
      "1097/1097 [==============================] - 0s 263us/step - loss: 0.0011 - acc: 1.0000 - val_loss: 0.0655 - val_acc: 0.9818\n",
      "Epoch 248/250\n",
      "1097/1097 [==============================] - 0s 259us/step - loss: 9.7018e-04 - acc: 1.0000 - val_loss: 0.0591 - val_acc: 0.9855\n",
      "Epoch 249/250\n",
      "1097/1097 [==============================] - 0s 266us/step - loss: 0.0015 - acc: 1.0000 - val_loss: 0.0529 - val_acc: 0.9818\n",
      "Epoch 250/250\n",
      "1097/1097 [==============================] - 0s 258us/step - loss: 7.0408e-04 - acc: 1.0000 - val_loss: 0.0567 - val_acc: 0.9818\n"
     ]
    }
   ],
   "source": [
    "print(\"\\n####################### Training Model ##############################\")\n",
    "print(\"Training...\")\n",
    "history = model.fit(x=x_train, y=y_train, batch_size=batch_size, epochs=max_epochs, validation_data=(x_val, y_val), verbose=1)"
   ]
  },
  {
   "cell_type": "code",
   "execution_count": 22,
   "metadata": {
    "colab": {
     "base_uri": "https://localhost:8080/",
     "height": 493
    },
    "colab_type": "code",
    "id": "IMyOEExN8BKK",
    "outputId": "d54909ed-4a53-411c-e78e-0b5952f7aebf"
   },
   "outputs": [
    {
     "name": "stdout",
     "output_type": "stream",
     "text": [
      "\n",
      "###################### Model Performance ############################\n",
      "\n",
      "Train: 1.000, Test: 0.988\n",
      "\n",
      "#####################################################################\n",
      "\n",
      "Classfication Report for test:\n",
      "               precision    recall  f1-score   support\n",
      "\n",
      "    Prostate       0.98      0.98      0.98        65\n",
      "     Bladder       0.98      0.98      0.98        58\n",
      "    Left Fem       1.00      0.94      0.97        48\n",
      "   Right Fem       0.98      1.00      0.99        54\n",
      "      Rectum       1.00      1.00      1.00        63\n",
      "        Body       1.00      1.00      1.00        56\n",
      "\n",
      "   micro avg       0.99      0.99      0.99       344\n",
      "   macro avg       0.99      0.98      0.99       344\n",
      "weighted avg       0.99      0.99      0.99       344\n",
      " samples avg       0.99      0.99      0.99       344\n",
      "\n",
      "\n",
      "#####################################################################\n"
     ]
    },
    {
     "name": "stderr",
     "output_type": "stream",
     "text": [
      "/usr/local/lib/python3.6/dist-packages/sklearn/metrics/classification.py:1143: UndefinedMetricWarning:\n",
      "\n",
      "Precision and F-score are ill-defined and being set to 0.0 in samples with no predicted labels.\n",
      "\n"
     ]
    }
   ],
   "source": [
    "print(\"\\n###################### Model Performance ############################\")\n",
    "# Make predictions \n",
    "y_pred = model.predict(x_test)\n",
    "\n",
    "# evaluate the model\n",
    "_, train_acc = model.evaluate(x_train, y_train, verbose=0)\n",
    "_, test_acc = model.evaluate(x_test, y_test, verbose=0)\n",
    "print('\\nTrain: %.3f, Test: %.3f' % (train_acc, test_acc))\n",
    "print(\"\\n#####################################################################\")\n",
    "\n",
    "#Classification report\n",
    "report = classification_report(y_test, y_pred.round(), target_names=['Prostate', 'Bladder', 'Left Fem', 'Right Fem', 'Rectum', 'Body'])\n",
    "print(\"\\nClassfication Report for test:\\n\", report)\n",
    "print(\"\\n#####################################################################\")"
   ]
  },
  {
   "cell_type": "markdown",
   "metadata": {
    "colab_type": "text",
    "id": "lesRyNdQ9mCA"
   },
   "source": [
    "Example"
   ]
  },
  {
   "cell_type": "code",
   "execution_count": 0,
   "metadata": {
    "colab": {},
    "colab_type": "code",
    "id": "aseiW_5JfV8E"
   },
   "outputs": [],
   "source": [
    "# Define a function to read out the prediction. \n",
    "def guestimator(prediction):\n",
    "    print(\"Prediction: \")\n",
    "    if prediction[0] == 1:\n",
    "        print(\"Prostate\")\n",
    "    elif prediction[1] == 1:\n",
    "        print(\"Bladder\")\n",
    "    elif prediction[2] == 1:\n",
    "        print(\"Left Fem\")\n",
    "    elif prediction[3] == 1:\n",
    "        print(\"Right Fem\")\n",
    "    elif prediction[4] == 1:\n",
    "        print(\"Rectum\")\n",
    "    elif prediction[5] == 1:\n",
    "        print(\"Body\")"
   ]
  },
  {
   "cell_type": "code",
   "execution_count": 24,
   "metadata": {
    "colab": {
     "base_uri": "https://localhost:8080/",
     "height": 282
    },
    "colab_type": "code",
    "id": "FFS6195MdwT0",
    "outputId": "832cdfaa-3cd7-437e-c6fe-c00ef94a6410"
   },
   "outputs": [
    {
     "data": {
      "image/png": "[encoded data removed]",
      "text/plain": [
       "<Figure size 432x288 with 1 Axes>"
      ]
     },
     "metadata": {
      "tags": []
     },
     "output_type": "display_data"
    },
    {
     "name": "stdout",
     "output_type": "stream",
     "text": [
      "Prediction: \n",
      "Rectum\n"
     ]
    }
   ],
   "source": [
    "import matplotlib.pyplot as plt\n",
    "import numpy as np\n",
    "\n",
    "example = X_test[0]\n",
    "example = example.reshape(16,16,16)\n",
    "\n",
    "# Plot a test image\n",
    "from mpl_toolkits.mplot3d import Axes3D  # noqa: F401 unused import\n",
    "fig = plt.figure()\n",
    "ax = fig.gca(projection='3d')\n",
    "ax.voxels(example, edgecolor='k')\n",
    "plt.show()\n",
    "\n",
    "# Make prediction\n",
    "y_pred = model.predict(x_test[0:2,:,:])\n",
    "firstGuess = y_pred.round()[0]\n",
    "guestimator(firstGuess)"
   ]
  }
 ],
 "metadata": {
  "accelerator": "GPU",
  "colab": {
   "collapsed_sections": [],
   "include_colab_link": true,
   "name": "organ_classifier_3dcnn.ipynb",
   "provenance": [],
   "version": "0.3.2"
  },
  "kernelspec": {
   "display_name": "Python 3",
   "language": "python",
   "name": "python3"
  },
  "language_info": {
   "codemirror_mode": {
    "name": "ipython",
    "version": 3
   },
   "file_extension": ".py",
   "mimetype": "text/x-python",
   "name": "python",
   "nbconvert_exporter": "python",
   "pygments_lexer": "ipython3",
   "version": "3.7.3"
  }
 },
 "nbformat": 4,
 "nbformat_minor": 1
}
